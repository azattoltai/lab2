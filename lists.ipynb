{
 "cells": [
  {
   "cell_type": "markdown",
   "metadata": {},
   "source": [
    "Example 1 - List"
   ]
  },
  {
   "cell_type": "code",
   "execution_count": 1,
   "metadata": {},
   "outputs": [
    {
     "name": "stdout",
     "output_type": "stream",
     "text": [
      "1: ['apple', 'banana', 'cherry']\n",
      "2: ['apple', 'banana', 'cherry', 'apple', 'cherry']\n",
      "3: 3\n",
      "4: ['apple', 'banana', 'cherry']\n",
      "5: [1, 5, 7, 9, 3]\n",
      "6: [True, False, False]\n",
      "7: ['abc', 34, True, 40, 'male']\n",
      "8: <class 'list'>\n",
      "9: ['apple', 'banana', 'cherry']\n"
     ]
    }
   ],
   "source": [
    "thislist = [\"apple\", \"banana\", \"cherry\"]\n",
    "print(\"1:\", thislist)\n",
    "\n",
    "thislist = [\"apple\", \"banana\", \"cherry\", \"apple\", \"cherry\"]\n",
    "print(\"2:\", thislist)\n",
    "\n",
    "thislist = [\"apple\", \"banana\", \"cherry\"]\n",
    "print(\"3:\", len(thislist))\n",
    "\n",
    "list1 = [\"apple\", \"banana\", \"cherry\"]\n",
    "list2 = [1, 5, 7, 9, 3]\n",
    "list3 = [True, False, False]\n",
    "print(\"4:\", list1)\n",
    "print(\"5:\", list2)\n",
    "print(\"6:\", list3)\n",
    "\n",
    "list1 = [\"abc\", 34, True, 40, \"male\"]\n",
    "print(\"7:\", list1)\n",
    "\n",
    "mylist = [\"apple\", \"banana\", \"cherry\"]\n",
    "print(\"8:\", type(mylist))\n",
    "\n",
    "thislist = list((\"apple\", \"banana\", \"cherry\")) # note the double round-brackets\n",
    "print(\"9:\", thislist)\n"
   ]
  },
  {
   "cell_type": "markdown",
   "metadata": {},
   "source": [
    "Example 2 - Access List Items"
   ]
  },
  {
   "cell_type": "code",
   "execution_count": 1,
   "metadata": {},
   "outputs": [
    {
     "name": "stdout",
     "output_type": "stream",
     "text": [
      "1: banana\n",
      "2: cherry\n",
      "3 ['cherry', 'orange', 'kiwi']\n",
      "4: ['apple', 'banana', 'cherry', 'orange']\n",
      "5: ['cherry', 'orange', 'kiwi', 'melon', 'mango']\n",
      "6: ['orange', 'kiwi', 'melon']\n",
      "7: Yes, 'apple' is in the fruits list\n"
     ]
    }
   ],
   "source": [
    "thislist = [\"apple\", \"banana\", \"cherry\"]\n",
    "print(\"1:\", thislist[1])\n",
    "\n",
    "thislist = [\"apple\", \"banana\", \"cherry\"]\n",
    "print(\"2:\", thislist[-1])\n",
    "\n",
    "thislist = [\"apple\", \"banana\", \"cherry\", \"orange\", \"kiwi\", \"melon\", \"mango\"]\n",
    "print(\"3\", thislist[2:5])\n",
    "\n",
    "thislist = [\"apple\", \"banana\", \"cherry\", \"orange\", \"kiwi\", \"melon\", \"mango\"]\n",
    "print(\"4:\", thislist[:4])\n",
    "\n",
    "thislist = [\"apple\", \"banana\", \"cherry\", \"orange\", \"kiwi\", \"melon\", \"mango\"]\n",
    "print(\"5:\", thislist[2:])\n",
    "\n",
    "thislist = [\"apple\", \"banana\", \"cherry\", \"orange\", \"kiwi\", \"melon\", \"mango\"]\n",
    "print(\"6:\", thislist[-4:-1])\n",
    "\n",
    "thislist = [\"apple\", \"banana\", \"cherry\"]\n",
    "if \"apple\" in thislist:\n",
    "  print(\"7:\", \"Yes, 'apple' is in the fruits list\")"
   ]
  },
  {
   "cell_type": "markdown",
   "metadata": {},
   "source": [
    "Example 3 - Change list Items"
   ]
  },
  {
   "cell_type": "code",
   "execution_count": 2,
   "metadata": {},
   "outputs": [
    {
     "name": "stdout",
     "output_type": "stream",
     "text": [
      "1: ['apple', 'blackcurrant', 'cherry']\n",
      "2: ['apple', 'blackcurrant', 'watermelon', 'orange', 'kiwi', 'mango']\n",
      "3: ['apple', 'blackcurrant', 'watermelon', 'cherry']\n",
      "4: ['apple', 'watermelon']\n",
      "5: ['apple', 'banana', 'watermelon', 'cherry']\n"
     ]
    }
   ],
   "source": [
    "thislist = [\"apple\", \"banana\", \"cherry\"]\n",
    "thislist[1] = \"blackcurrant\"\n",
    "print(\"1:\", thislist)\n",
    "\n",
    "thislist = [\"apple\", \"banana\", \"cherry\", \"orange\", \"kiwi\", \"mango\"]\n",
    "thislist[1:3] = [\"blackcurrant\", \"watermelon\"]\n",
    "print(\"2:\", thislist)\n",
    "\n",
    "thislist = [\"apple\", \"banana\", \"cherry\"]\n",
    "thislist[1:2] = [\"blackcurrant\", \"watermelon\"]\n",
    "print(\"3:\", thislist)\n",
    "\n",
    "thislist = [\"apple\", \"banana\", \"cherry\"]\n",
    "thislist[1:3] = [\"watermelon\"]\n",
    "print(\"4:\", thislist)\n",
    "\n",
    "thislist = [\"apple\", \"banana\", \"cherry\"]\n",
    "thislist.insert(2, \"watermelon\")\n",
    "print(\"5:\", thislist)"
   ]
  },
  {
   "cell_type": "markdown",
   "metadata": {},
   "source": [
    "Example 4 - Add List Items"
   ]
  },
  {
   "cell_type": "code",
   "execution_count": 1,
   "metadata": {},
   "outputs": [
    {
     "name": "stdout",
     "output_type": "stream",
     "text": [
      "1: ['apple', 'banana', 'cherry', 'orange']\n",
      "2: ['apple', 'melon', 'banana', 'cherry']\n",
      "3: ['apple', 'banana', 'cherry', 'mango', 'pineapple', 'papaya']\n",
      "4: ['apple', 'banana', 'cherry', 'kiwi', 'orange']\n"
     ]
    }
   ],
   "source": [
    "thislist = [\"apple\", \"banana\", \"cherry\"]\n",
    "thislist.append(\"orange\")\n",
    "print(\"1:\", thislist)\n",
    "\n",
    "thislist = [\"apple\", \"banana\", \"cherry\"]\n",
    "thislist.insert(1, \"melon\")\n",
    "print(\"2:\", thislist)\n",
    "\n",
    "thislist = [\"apple\", \"banana\", \"cherry\"]\n",
    "tropical = [\"mango\", \"pineapple\", \"papaya\"]\n",
    "thislist.extend(tropical)\n",
    "print( \"3:\", thislist)\n",
    "\n",
    "thislist = [\"apple\", \"banana\", \"cherry\"]\n",
    "thistuple = (\"kiwi\", \"orange\")\n",
    "thislist.extend(thistuple)\n",
    "print( \"4:\",  thislist)\n"
   ]
  },
  {
   "cell_type": "markdown",
   "metadata": {},
   "source": [
    "Examole 5 - Remove List Items\n"
   ]
  },
  {
   "cell_type": "code",
   "execution_count": 2,
   "metadata": {},
   "outputs": [
    {
     "name": "stdout",
     "output_type": "stream",
     "text": [
      "1: ['apple', 'cherry']\n",
      "2: ['apple', 'cherry', 'banana', 'kiwi']\n",
      "3: ['apple', 'cherry']\n",
      "4: ['apple', 'banana']\n",
      "5: ['banana', 'cherry']\n",
      "6:\n",
      "7: []\n"
     ]
    }
   ],
   "source": [
    "thislist = [\"apple\", \"banana\", \"cherry\"]\n",
    "thislist.remove(\"banana\")\n",
    "print( \"1:\", thislist)\n",
    "\n",
    "thislist = [\"apple\", \"banana\", \"cherry\", \"banana\", \"kiwi\"]\n",
    "thislist.remove(\"banana\")\n",
    "print(\"2:\",thislist)\n",
    "\n",
    "thislist = [\"apple\", \"banana\", \"cherry\"]\n",
    "thislist.pop(1)\n",
    "print(\"3:\",thislist)\n",
    "\n",
    "thislist = [\"apple\", \"banana\", \"cherry\"]\n",
    "thislist.pop()\n",
    "print(\"4:\",thislist)\n",
    "\n",
    "thislist = [\"apple\", \"banana\", \"cherry\"]\n",
    "del thislist[0]\n",
    "print(\"5:\",thislist)\n",
    "\n",
    "print(\"6:\")\n",
    "thislist = [\"apple\", \"banana\", \"cherry\"]\n",
    "del thislist\n",
    "\n",
    "thislist = [\"apple\", \"banana\", \"cherry\"]\n",
    "thislist.clear()\n",
    "print(\"7:\",thislist)"
   ]
  },
  {
   "cell_type": "markdown",
   "metadata": {},
   "source": [
    "Example 6 - Loop Lists"
   ]
  },
  {
   "cell_type": "code",
   "execution_count": 4,
   "metadata": {},
   "outputs": [
    {
     "name": "stdout",
     "output_type": "stream",
     "text": [
      "1:\n",
      "apple\n",
      "banana\n",
      "cherry\n",
      "2:\n",
      "apple\n",
      "banana\n",
      "cherry\n",
      "3:\n",
      "apple\n",
      "banana\n",
      "cherry\n",
      "4:\n",
      "apple\n",
      "banana\n",
      "cherry\n"
     ]
    },
    {
     "data": {
      "text/plain": [
       "[None, None, None]"
      ]
     },
     "execution_count": 4,
     "metadata": {},
     "output_type": "execute_result"
    }
   ],
   "source": [
    "print(\"1:\")\n",
    "thislist = [\"apple\", \"banana\", \"cherry\"]\n",
    "for x in thislist:\n",
    "  print(x)\n",
    "\n",
    "print(\"2:\")\n",
    "thislist = [\"apple\", \"banana\", \"cherry\"]\n",
    "for i in range(len(thislist)):\n",
    "  print(thislist[i])\n",
    "\n",
    "print(\"3:\")\n",
    "thislist = [\"apple\", \"banana\", \"cherry\"]\n",
    "i = 0\n",
    "while i < len(thislist):\n",
    "  print(thislist[i])\n",
    "  i = i + 1\n",
    "\n",
    "print(\"4:\")\n",
    "thislist = [\"apple\", \"banana\", \"cherry\"]\n",
    "[print(x) for x in thislist]"
   ]
  },
  {
   "cell_type": "markdown",
   "metadata": {},
   "source": [
    "Example 7 -  List Comprehension"
   ]
  },
  {
   "cell_type": "code",
   "execution_count": 12,
   "metadata": {},
   "outputs": [
    {
     "name": "stdout",
     "output_type": "stream",
     "text": [
      "1: ['apple', 'banana', 'mango']\n",
      "2: ['apple', 'banana', 'mango']\n",
      "3: ['banana', 'cherry', 'kiwi', 'mango']\n",
      "4: ['apple', 'banana', 'cherry', 'kiwi', 'mango']\n",
      "5: [0, 1, 2, 3, 4, 5, 6, 7, 8, 9]\n",
      "6: [0, 1, 2, 3, 4]\n",
      "7: ['APPLE', 'BANANA', 'CHERRY', 'KIWI', 'MANGO']\n",
      "8: ['hello', 'hello', 'hello', 'hello', 'hello']\n",
      "9: ['apple', 'orange', 'cherry', 'kiwi', 'mango']\n"
     ]
    }
   ],
   "source": [
    "fruits = [\"apple\", \"banana\", \"cherry\", \"kiwi\", \"mango\"]\n",
    "newlist = []\n",
    "for x in fruits:\n",
    "  if \"a\" in x:\n",
    "    newlist.append(x)\n",
    "print(\"1:\", newlist)\n",
    "\n",
    "\n",
    "fruits = [\"apple\", \"banana\", \"cherry\", \"kiwi\", \"mango\"]\n",
    "newlist = [x for x in fruits if \"a\" in x]\n",
    "print(\"2:\",newlist)\n",
    "\n",
    "\n",
    "fruits = [\"apple\", \"banana\", \"cherry\", \"kiwi\", \"mango\"]\n",
    "newlist = [x for x in fruits if x != \"apple\"]\n",
    "print(\"3:\",newlist)\n",
    "\n",
    "\n",
    "fruits = [\"apple\", \"banana\", \"cherry\", \"kiwi\", \"mango\"]\n",
    "newlist = [x for x in fruits]\n",
    "print(\"4:\",newlist)\n",
    "\n",
    "\n",
    "newlist = [x for x in range(10)]\n",
    "print(\"5:\",newlist)\n",
    "\n",
    "\n",
    "newlist = [x for x in range(10) if x < 5]\n",
    "print(\"6:\",newlist)\n",
    "\n",
    "\n",
    "fruits = [\"apple\", \"banana\", \"cherry\", \"kiwi\", \"mango\"]\n",
    "newlist = [x.upper() for x in fruits]\n",
    "print(\"7:\",newlist)\n",
    "\n",
    "\n",
    "fruits = [\"apple\", \"banana\", \"cherry\", \"kiwi\", \"mango\"]\n",
    "newlist = ['hello' for x in fruits]\n",
    "print(\"8:\",newlist)\n",
    "\n",
    "\n",
    "fruits = [\"apple\", \"banana\", \"cherry\", \"kiwi\", \"mango\"]\n",
    "newlist = [x if x != \"banana\" else \"orange\" for x in fruits]\n",
    "print(\"9:\",newlist)\n"
   ]
  },
  {
   "cell_type": "markdown",
   "metadata": {},
   "source": [
    "Example 8 - Sort Lists"
   ]
  },
  {
   "cell_type": "code",
   "execution_count": 14,
   "metadata": {},
   "outputs": [
    {
     "name": "stdout",
     "output_type": "stream",
     "text": [
      "1: ['banana', 'kiwi', 'mango', 'ornage', 'pineapple']\n",
      "2: [23, 50, 65, 82, 100]\n",
      "3: ['pineapple', 'ornage', 'mango', 'kiwi', 'banana']\n",
      "4: [100, 82, 65, 50, 23]\n",
      "5: [50, 65, 23, 82, 100]\n",
      "6: ['banana', 'pineapple', 'kiwi', 'mango', 'ornage']\n"
     ]
    }
   ],
   "source": [
    "thelist = [\"ornage\", \"mango\", \"kiwi\", \"pineapple\", \"banana\"]\n",
    "thelist.sort()\n",
    "print(\"1:\",thelist)\n",
    "\n",
    "thelist = [100, 50, 65, 82, 23]\n",
    "thelist.sort()  \n",
    "print(\"2:\",thelist)\n",
    "\n",
    "thelist = [\"ornage\", \"mango\", \"kiwi\", \"pineapple\", \"banana\"]\n",
    "thelist.sort(reverse = True)\n",
    "print(\"3:\",thelist)\n",
    "\n",
    "thelist = [100, 50, 65, 82, 23]\n",
    "thelist.sort(reverse = True)\n",
    "print(\"4:\",thelist)\n",
    "\n",
    "def myfunc(n):\n",
    "  return abs(n - 50)                \n",
    "thelist = [100, 50, 65, 82, 23]\n",
    "thelist.sort(key = myfunc)\n",
    "print(\"5:\",thelist)\n",
    "\n",
    "thelist = [\"ornage\", \"mango\", \"kiwi\", \"pineapple\", \"banana\"]\n",
    "thelist.reverse()\n",
    "print(\"6:\",thelist)\n",
    "\n",
    "thelist = [\"apple\", \"banana\", \"cherry\"]\n",
    "mylist = thelist.copy()"
   ]
  },
  {
   "cell_type": "markdown",
   "metadata": {},
   "source": [
    "Example 9 - Copy List"
   ]
  },
  {
   "cell_type": "code",
   "execution_count": 15,
   "metadata": {},
   "outputs": [
    {
     "name": "stdout",
     "output_type": "stream",
     "text": [
      "1: ['apple', 'banana', 'cherry']\n",
      "2: ['apple', 'banana', 'cherry']\n",
      "3: ['apple', 'banana', 'cherry']\n"
     ]
    }
   ],
   "source": [
    "thelist = [\"apple\", \"banana\", \"cherry\"]\n",
    "mylist = thelist.copy()\n",
    "print(\"1:\",mylist)\n",
    "\n",
    "thelist = [\"apple\", \"banana\", \"cherry\"]\n",
    "mylist = list(thelist)\n",
    "print(\"2:\",mylist)\n",
    "\n",
    "thelist = [\"apple\", \"banana\", \"cherry\"]\n",
    "mylist = thelist[:]\n",
    "print(\"3:\",mylist)"
   ]
  },
  {
   "cell_type": "markdown",
   "metadata": {},
   "source": [
    "Example 10 - Join List"
   ]
  },
  {
   "cell_type": "markdown",
   "metadata": {},
   "source": []
  },
  {
   "cell_type": "code",
   "execution_count": null,
   "metadata": {},
   "outputs": [],
   "source": [
    "list1 = [\"a\", \"b\" , \"c\"]\n",
    "list2 = [1, 2, 3]\n",
    "list3 = list1 + list2\n",
    "print(\"1:\",list3)\n",
    "\n",
    "list1 = [\"a\", \"b\" , \"c\"]\n",
    "list2 = [1, 2, 3]\n",
    "for x in list2:\n",
    "  list1.append(x)\n",
    "print(\"2:\",list1)\n",
    "\n",
    "list1 = [\"a\", \"b\" , \"c\"]\n",
    "list2 = [1, 2, 3]\n",
    "list1.extend(list2)\n",
    "print(\"3:\",list1)"
   ]
  }
 ],
 "metadata": {
  "kernelspec": {
   "display_name": "Python 3",
   "language": "python",
   "name": "python3"
  },
  "language_info": {
   "codemirror_mode": {
    "name": "ipython",
    "version": 3
   },
   "file_extension": ".py",
   "mimetype": "text/x-python",
   "name": "python",
   "nbconvert_exporter": "python",
   "pygments_lexer": "ipython3",
   "version": "3.12.3"
  }
 },
 "nbformat": 4,
 "nbformat_minor": 2
}
