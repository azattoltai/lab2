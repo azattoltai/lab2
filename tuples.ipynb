{
 "cells": [
  {
   "cell_type": "markdown",
   "metadata": {},
   "source": [
    "Example 1 - Python Tuples"
   ]
  },
  {
   "cell_type": "code",
   "execution_count": 1,
   "metadata": {},
   "outputs": [
    {
     "name": "stdout",
     "output_type": "stream",
     "text": [
      "1: ('apple', 'banana', 'cherry')\n",
      "2: ('apple', 'banana', 'cherry', 'apple', 'cherry')\n",
      "3: 3\n",
      "4: <class 'tuple'>\n",
      "5: <class 'str'>\n",
      "6: ('apple', 'banana', 'cherry')\n",
      "7: (1, 5, 7, 9, 3)\n",
      "8: (True, False, False)\n",
      "9: ('abc', 34, True, 40, 'male')\n",
      "10: ('apple', 'banana', 'cherry')\n"
     ]
    }
   ],
   "source": [
    "thistuple = (\"apple\", \"banana\", \"cherry\")\n",
    "print(\"1:\" , thistuple)\n",
    "\n",
    "\n",
    "thistuple = (\"apple\", \"banana\", \"cherry\" , \"apple\" , \"cherry\") \n",
    "print(\"2:\" , thistuple)\n",
    "\n",
    "\n",
    "thistuple = (\"apple\", \"banana\", \"cherry\")\n",
    "print(\"3:\" , len(thistuple))\n",
    "\n",
    "\n",
    "thistuple = (\"apple\",) \n",
    "print(\"4:\" , type(thistuple))\n",
    "\n",
    "\n",
    "thistuple = (\"apple\")\n",
    "print(\"5:\" , type(thistuple))\n",
    "\n",
    "\n",
    "tuple1 = (\"apple\", \"banana\", \"cherry\")\n",
    "tuple2 = (1, 5, 7, 9, 3)   \n",
    "tuple3 = (True, False, False)\n",
    "print(\"6:\" , tuple1)\n",
    "print(\"7:\" , tuple2)\n",
    "print(\"8:\" , tuple3)\n",
    "\n",
    "\n",
    "tuple1 = (\"abc\", 34, True, 40, \"male\")\n",
    "print(\"9:\" , tuple1)\n",
    "\n",
    "\n",
    "thistuple = tuple((\"apple\", \"banana\", \"cherry\"))\n",
    "print(\"10:\" , thistuple)"
   ]
  },
  {
   "cell_type": "markdown",
   "metadata": {},
   "source": [
    "Example 2 - Access Tuple Items"
   ]
  },
  {
   "cell_type": "code",
   "execution_count": null,
   "metadata": {},
   "outputs": [
    {
     "name": "stdout",
     "output_type": "stream",
     "text": [
      "1: banana\n",
      "2: cherry\n",
      "3: ('cherry', 'orange', 'kiwi')\n",
      "4: ('apple', 'banana', 'cherry', 'orange')\n",
      "5: ('cherry', 'orange', 'kiwi', 'melon', 'mango')\n",
      "6: ('orange', 'kiwi', 'melon')\n",
      "7: Yes, 'apple' is in the fruits tuple\n"
     ]
    }
   ],
   "source": [
    "thistuple = (\"apple\", \"banana\", \"cherry\")\n",
    "print(\"1:\" , thistuple[1])\n",
    "\n",
    "\n",
    "thistuple = (\"apple\", \"banana\", \"cherry\")\n",
    "print(\"2:\" , thistuple[-1])   \n",
    "\n",
    "\n",
    "thistuple = (\"apple\", \"banana\", \"cherry\", \"orange\", \"kiwi\", \"melon\", \"mango\")\n",
    "print(\"3:\" , thistuple[2:5])\n",
    "\n",
    "\n",
    "thistuple = (\"apple\", \"banana\", \"cherry\", \"orange\", \"kiwi\", \"melon\", \"mango\")\n",
    "print(\"4:\" , thistuple[:4])\n",
    "\n",
    "\n",
    "thistuple = (\"apple\", \"banana\", \"cherry\", \"orange\", \"kiwi\", \"melon\", \"mango\")   \n",
    "print(\"5:\" , thistuple[2:])\n",
    "\n",
    "thistuple = (\"apple\", \"banana\", \"cherry\", \"orange\", \"kiwi\", \"melon\", \"mango\")   \n",
    "print(\"6:\" , thistuple[-4:-1])\n",
    "\n",
    "\n",
    "thistuple = (\"apple\", \"banana\", \"cherry\")\n",
    "if \"apple\" in thistuple:\n",
    "    print(\"7: Yes, 'apple' is in the fruits tuple\")"
   ]
  },
  {
   "cell_type": "markdown",
   "metadata": {},
   "source": [
    "Example 3 - Update Tuples"
   ]
  },
  {
   "cell_type": "code",
   "execution_count": 9,
   "metadata": {},
   "outputs": [
    {
     "name": "stdout",
     "output_type": "stream",
     "text": [
      "1: ('apple', 'kiwi', 'cherry')\n",
      "2: ('apple', 'banana', 'cherry', 'orange')\n",
      "3: ('apple', 'banana', 'cherry', 'orange')\n",
      "4: ('banana', 'cherry')\n"
     ]
    },
    {
     "data": {
      "text/plain": [
       "'\\nthistuple = (\"apple\", \"banana\", \"cherry\")\\ndel thistuple\\nprint(thistuple) \\n'"
      ]
     },
     "execution_count": 9,
     "metadata": {},
     "output_type": "execute_result"
    }
   ],
   "source": [
    "x = (\"apple\", \"banana\", \"cherry\")\n",
    "y = list(x)\n",
    "y[1] = \"kiwi\"\n",
    "x = tuple(y)\n",
    "print(\"1:\" , x)\n",
    "\n",
    "\n",
    "thistuple = (\"apple\", \"banana\", \"cherry\")   \n",
    "y = list(thistuple)\n",
    "y.append(\"orange\")\n",
    "thistuple = tuple(y)\n",
    "print(\"2:\" , thistuple)\n",
    "\n",
    "\n",
    "thistuple = (\"apple\", \"banana\", \"cherry\")\n",
    "y = (\"orange\",)\n",
    "thistuple += y\n",
    "print(\"3:\" , thistuple)\n",
    "\n",
    "\n",
    "thistuple = (\"apple\", \"banana\", \"cherry\")\n",
    "y = list(thistuple)\n",
    "y.remove(\"apple\")\n",
    "thistuple = tuple(y)\n",
    "print(\"4:\" , thistuple)\n",
    "\n",
    "\n",
    "'''\n",
    "thistuple = (\"apple\", \"banana\", \"cherry\")\n",
    "del thistuple\n",
    "print(thistuple) \n",
    "'''"
   ]
  },
  {
   "cell_type": "markdown",
   "metadata": {},
   "source": [
    "Example 4 - Unpack Tuples"
   ]
  },
  {
   "cell_type": "code",
   "execution_count": 11,
   "metadata": {},
   "outputs": [
    {
     "name": "stdout",
     "output_type": "stream",
     "text": [
      "1: ('apple', 'banana', 'cherry')\n",
      "2: apple\n",
      "3: banana\n",
      "4: cherry\n",
      "5: apple\n",
      "6: banana\n",
      "7: ['cherry', 'strawberry', 'raspberry']\n",
      "8: apple\n",
      "9: ['mango', 'papaya', 'pineapple']\n",
      "10: cherry\n"
     ]
    }
   ],
   "source": [
    "fruits = (\"apple\", \"banana\", \"cherry\")\n",
    "print(\"1:\", fruits)\n",
    "\n",
    "\n",
    "fruits = (\"apple\", \"banana\", \"cherry\")\n",
    "(green, yellow, red) = fruits\n",
    "print(\"2:\", green)\n",
    "print(\"3:\", yellow)\n",
    "print(\"4:\", red)\n",
    "\n",
    "\n",
    "fruits = (\"apple\", \"banana\", \"cherry\", \"strawberry\", \"raspberry\")\n",
    "(green, yellow, *red) = fruits\n",
    "print(\"5:\", green)\n",
    "print(\"6:\", yellow)\n",
    "print(\"7:\", red)\n",
    "\n",
    "\n",
    "fruits = (\"apple\", \"mango\", \"papaya\", \"pineapple\", \"cherry\")\n",
    "(green, *tropic, red) = fruits\n",
    "print(\"8:\", green)\n",
    "print(\"9:\", tropic)\n",
    "print(\"10:\", red)\n"
   ]
  },
  {
   "cell_type": "markdown",
   "metadata": {},
   "source": [
    "Example 5 - Loop Tuples"
   ]
  },
  {
   "cell_type": "code",
   "execution_count": 13,
   "metadata": {},
   "outputs": [
    {
     "name": "stdout",
     "output_type": "stream",
     "text": [
      "1:\n",
      "apple\n",
      "banana\n",
      "cherry\n",
      "2:\n",
      "apple\n",
      "banana\n",
      "cherry\n",
      "3:\n",
      "apple\n",
      "banana\n",
      "cherry\n"
     ]
    }
   ],
   "source": [
    "print(\"1:\")\n",
    "thistuple = (\"apple\", \"banana\", \"cherry\")\n",
    "for x in thistuple:\n",
    "    print(x)\n",
    "\n",
    "\n",
    "print(\"2:\")\n",
    "thistuple = (\"apple\", \"banana\", \"cherry\")\n",
    "for i in range(len(thistuple)):\n",
    "    print(thistuple[i])   \n",
    "\n",
    "\n",
    "print(\"3:\")\n",
    "thistuple = (\"apple\", \"banana\", \"cherry\")\n",
    "i = 0\n",
    "while i < len(thistuple):\n",
    "    print( thistuple[i])\n",
    "    i = i + 1\n"
   ]
  },
  {
   "cell_type": "markdown",
   "metadata": {},
   "source": [
    "Example 6 - Join Tuples "
   ]
  },
  {
   "cell_type": "code",
   "execution_count": 14,
   "metadata": {},
   "outputs": [
    {
     "name": "stdout",
     "output_type": "stream",
     "text": [
      "1: ('a', 'b', 'c', 1, 2, 3)\n",
      "2: ('apple', 'banana', 'cherry', 'apple', 'banana', 'cherry')\n"
     ]
    }
   ],
   "source": [
    "tuple1 = (\"a\", \"b\" , \"c\")  \n",
    "tuple2 = (1, 2, 3)\n",
    "tuple3 = tuple1 + tuple2\n",
    "print(\"1:\", tuple3)\n",
    "\n",
    "\n",
    "fruits = (\"apple\", \"banana\", \"cherry\")\n",
    "mytuple = fruits * 2\n",
    "print(\"2:\", mytuple)"
   ]
  }
 ],
 "metadata": {
  "kernelspec": {
   "display_name": "Python 3",
   "language": "python",
   "name": "python3"
  },
  "language_info": {
   "codemirror_mode": {
    "name": "ipython",
    "version": 3
   },
   "file_extension": ".py",
   "mimetype": "text/x-python",
   "name": "python",
   "nbconvert_exporter": "python",
   "pygments_lexer": "ipython3",
   "version": "3.12.3"
  }
 },
 "nbformat": 4,
 "nbformat_minor": 2
}
