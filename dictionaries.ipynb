{
 "cells": [
  {
   "cell_type": "markdown",
   "metadata": {},
   "source": [
    "Example 1 - Dictionaries"
   ]
  },
  {
   "cell_type": "code",
   "execution_count": 9,
   "metadata": {},
   "outputs": [
    {
     "name": "stdout",
     "output_type": "stream",
     "text": [
      "1: {'brand': 'Ford', 'model': 'Mustang', 'year': 1964}\n",
      "2: Ford\n",
      "3: 3\n",
      "4: {'brand': 'Ford', 'electric': False, 'year': 1964, 'colors': ['red', 'white', 'blue']}\n",
      "5: <class 'dict'>\n",
      "6: {'name': 'John', 'age': 36, 'couonty': 'Norway'}\n"
     ]
    }
   ],
   "source": [
    "thisdict = {\n",
    "    \"brand\": \"Ford\",\n",
    "    \"model\": \"Mustang\",\n",
    "    \"year\": 1964\n",
    "}\n",
    "print(\"1:\", thisdict)\n",
    "\n",
    "\n",
    "thisdict = {\n",
    "    \"brand\": \"Ford\",\n",
    "    \"model\": \"Mustang\",\n",
    "    \"year\": 1964\n",
    "}\n",
    "print(\"2:\", thisdict[\"brand\"])\n",
    "\n",
    "\n",
    "thisdict = {\n",
    "  \"brand\": \"Ford\",\n",
    "  \"model\": \"Mustang\",\n",
    "  \"year\": 1964,\n",
    "  \"year\": 2020\n",
    "}\n",
    "print(\"3:\", len(thisdict))\n",
    "\n",
    "\n",
    "thisdict = {\n",
    "  \"brand\": \"Ford\",\n",
    "  \"electric\": False,\n",
    "  \"year\": 1964,\n",
    "  \"colors\": [\"red\", \"white\", \"blue\"]\n",
    "}\n",
    "print(\"4:\", thisdict)\n",
    "\n",
    "\n",
    "thisdict = {\n",
    "    \"brand\": \"Ford\",\n",
    "    \"model\": \"Mustang\",\n",
    "    \"year\": 1964\n",
    "    }\n",
    "print(\"5:\", type(thisdict))\n",
    "\n",
    "\n",
    "thisdict =  dict(name = \"John\", age = 36, couonty = \"Norway\")\n",
    "print(\"6:\", thisdict)"
   ]
  },
  {
   "cell_type": "markdown",
   "metadata": {},
   "source": [
    "Example 2 - Access Items"
   ]
  },
  {
   "cell_type": "code",
   "execution_count": 10,
   "metadata": {},
   "outputs": [
    {
     "name": "stdout",
     "output_type": "stream",
     "text": [
      "1: Mustang\n",
      "2: Mustang\n",
      "3: dict_keys(['brand', 'model', 'year'])\n",
      "4: dict_keys(['brand', 'model', 'year', 'color'])\n",
      "5: dict_values(['Ford', 'Mustang', 1964])\n",
      "6: dict_values(['Ford', 'Mustang', 2020])\n",
      "7: dict_items([('brand', 'Ford'), ('model', 'Mustang'), ('year', 1964)])\n",
      "8: dict_items([('brand', 'Ford'), ('model', 'Mustang'), ('year', 2020)])\n",
      "9 Yes, 'model' is one of the keys in the thisdict dictionary\n"
     ]
    }
   ],
   "source": [
    "thisdict = {\n",
    "    \"brand\": \"Ford\",\n",
    "    \"model\": \"Mustang\",\n",
    "    \"year\": 1964\n",
    "}\n",
    "x = thisdict[\"model\"]\n",
    "print(\"1:\", x)\n",
    "\n",
    "\n",
    "thisdict =\t{\n",
    "  \"brand\": \"Ford\",\n",
    "  \"model\": \"Mustang\",\n",
    "  \"year\": 1964\n",
    "}\n",
    "x = thisdict.get(\"model\")\n",
    "print(\"2:\", x)\n",
    "\n",
    "\n",
    "car = {\n",
    "\"brand\": \"Ford\",\n",
    "\"model\": \"Mustang\",\n",
    "\"year\": 1964\n",
    "}\n",
    "x = car.keys()\n",
    "print(\"3:\", x)\n",
    "car[\"color\"] = \"white\"\n",
    "print(\"4:\", x)\n",
    "\n",
    "\n",
    "car = { \n",
    "\"brand\": \"Ford\",\n",
    "\"model\": \"Mustang\",\n",
    "\"year\": 1964\n",
    "}\n",
    "x = car.values()\n",
    "print(\"5:\", x)\n",
    "car[\"year\"] = 2020\n",
    "print(\"6:\", x)\n",
    "\n",
    "\n",
    "car = {\n",
    "\"brand\": \"Ford\",\n",
    "\"model\": \"Mustang\",\n",
    "\"year\": 1964\n",
    "}\n",
    "x = car.items()\n",
    "print(\"7:\", x)\n",
    "car[\"year\"] = 2020\n",
    "print(\"8:\", x)\n",
    "\n",
    "thisdict = {\n",
    "  \"brand\": \"Ford\",\n",
    "  \"model\": \"Mustang\",\n",
    "  \"year\": 1964\n",
    "}\n",
    "if \"model\" in thisdict:\n",
    "  print(\"9\", \"Yes, 'model' is one of the keys in the thisdict dictionary\")\n"
   ]
  },
  {
   "cell_type": "markdown",
   "metadata": {},
   "source": [
    "Example 3 - Change Value"
   ]
  },
  {
   "cell_type": "code",
   "execution_count": 12,
   "metadata": {},
   "outputs": [
    {
     "name": "stdout",
     "output_type": "stream",
     "text": [
      "1: {'brand': 'Ford', 'model': 'Mustang', 'year': 2018}\n",
      "2: {'brand': 'Ford', 'model': 'Mustang', 'year': 2020}\n"
     ]
    }
   ],
   "source": [
    "thisdict\n",
    "thisdict = {\n",
    "  \"brand\": \"Ford\",\n",
    "  \"model\": \"Mustang\",\n",
    "  \"year\": 1964\n",
    "}\n",
    "thisdict[\"year\"] = 2018\n",
    "print(\"1:\", thisdict)\n",
    "\n",
    "\n",
    "thisdict = {\n",
    "    \"brand\": \"Ford\",\n",
    "    \"model\": \"Mustang\",\n",
    "    \"year\": 1964\n",
    "    }\n",
    "thisdict.update({\"year\": 2020})\n",
    "print(\"2:\", thisdict)"
   ]
  },
  {
   "cell_type": "markdown",
   "metadata": {},
   "source": [
    "Example 4 - Add Items"
   ]
  },
  {
   "cell_type": "code",
   "execution_count": null,
   "metadata": {},
   "outputs": [],
   "source": [
    "thisdict = {   \n",
    "    \"brand\": \"Ford\",\n",
    "    \"model\": \"Mustang\",\n",
    "    \"year\": 1964\n",
    "    }\n",
    "thisdict[\"color\"] = \"red\"\n",
    "print(\"1:\", thisdict)\n",
    "\n",
    "\n",
    "thisdict = {\n",
    "    \"brand\": \"Ford\",\n",
    "    \"model\": \"Mustang\",\n",
    "    \"year\": 1964\n",
    "    }\n",
    "thisdict.update({\"color\": \"red\"})\n",
    "print(\"2:\", thisdict)\n"
   ]
  },
  {
   "cell_type": "markdown",
   "metadata": {},
   "source": [
    "Example 5 - Remove Items"
   ]
  },
  {
   "cell_type": "code",
   "execution_count": 14,
   "metadata": {},
   "outputs": [
    {
     "name": "stdout",
     "output_type": "stream",
     "text": [
      "1: {'brand': 'Ford', 'year': 1964}\n",
      "2: {'brand': 'Ford', 'model': 'Mustang'}\n",
      "3: {'brand': 'Ford', 'year': 1964}\n",
      "4: {}\n"
     ]
    }
   ],
   "source": [
    "thisdict = {\n",
    "    \"brand\": \"Ford\",\n",
    "    \"model\": \"Mustang\",\n",
    "    \"year\": 1964\n",
    "    }\n",
    "thisdict.pop(\"model\")\n",
    "print(\"1:\", thisdict)\n",
    "\n",
    "\n",
    "thisdict = {       \n",
    "    \"brand\": \"Ford\",\n",
    "    \"model\": \"Mustang\",\n",
    "    \"year\": 1964\n",
    "    }\n",
    "thisdict.popitem()\n",
    "print(\"2:\", thisdict)\n",
    "\n",
    "\n",
    "\n",
    "thisdict = {\n",
    "    \"brand\": \"Ford\",\n",
    "    \"model\": \"Mustang\",\n",
    "    \"year\": 1964\n",
    "    }\n",
    "del thisdict[\"model\"]\n",
    "print(\"3:\", thisdict)\n",
    "\n",
    "\n",
    "thisdict = {        \n",
    "    \"brand\" : \"Ford\",  \n",
    "    \"model\" : \"Mustang\",\n",
    "    \"year\" : 1964\n",
    "    }\n",
    "thisdict.clear()\n",
    "print(\"4:\", thisdict)"
   ]
  },
  {
   "cell_type": "markdown",
   "metadata": {},
   "source": [
    "Example 6 - Loop Dictionaries"
   ]
  },
  {
   "cell_type": "code",
   "execution_count": 4,
   "metadata": {},
   "outputs": [
    {
     "name": "stdout",
     "output_type": "stream",
     "text": [
      "1:\n",
      "brand\n",
      "model\n",
      "year\n",
      "2:\n",
      "Ford\n",
      "Mustang\n",
      "1964\n",
      "3:\n",
      "Ford\n",
      "Mustang\n",
      "1964\n",
      "4:\n",
      "brand Ford\n",
      "model Mustang\n",
      "year 1964\n",
      "5: {'brand': 'Ford', 'model': 'Mustang', 'year': 1964}\n"
     ]
    }
   ],
   "source": [
    "print(\"1:\")\n",
    "thisdict =\t{\n",
    "  \"brand\": \"Ford\",\n",
    "  \"model\": \"Mustang\",\n",
    "  \"year\": 1964\n",
    "}\n",
    "for x in thisdict:\n",
    "  print(x)\n",
    "\n",
    "\n",
    "print(\"2:\")\n",
    "thisdict = {\n",
    "  \"brand\": \"Ford\",\n",
    "  \"model\": \"Mustang\",\n",
    "  \"year\": 1964\n",
    "}\n",
    "for x in thisdict:\n",
    "    print(thisdict[x])\n",
    "\n",
    "\n",
    "\n",
    "print(\"3:\")\n",
    "thisdict = {\n",
    "  \"brand\": \"Ford\",\n",
    "  \"model\": \"Mustang\",\n",
    "  \"year\": 1964\n",
    "}\n",
    "for x in thisdict.values():\n",
    "    print(x)\n",
    "\n",
    "\n",
    "\n",
    "print(\"4:\")\n",
    "thisdict = {\n",
    "  \"brand\": \"Ford\",\n",
    "  \"model\": \"Mustang\",\n",
    "  \"year\": 1964\n",
    "}\n",
    "for x, y in thisdict.items():\n",
    "    print(x, y)\n",
    "\n",
    "\n",
    "thisdict = {\n",
    "    \"brand\": \"Ford\",\n",
    "    \"model\": \"Mustang\",\n",
    "    \"year\": 1964\n",
    "    }\n",
    "mydict = thisdict.copy()\n",
    "print(\"5:\", mydict)\n"
   ]
  },
  {
   "cell_type": "markdown",
   "metadata": {},
   "source": [
    "Example 7 - Copy Dictionaries"
   ]
  },
  {
   "cell_type": "code",
   "execution_count": 5,
   "metadata": {},
   "outputs": [
    {
     "name": "stdout",
     "output_type": "stream",
     "text": [
      "1: {'brand': 'Ford', 'model': 'Mustang', 'year': 1964}\n",
      "2: {'brand': 'Ford', 'model': 'Mustang', 'year': 1964}\n"
     ]
    }
   ],
   "source": [
    "thisdict = {\n",
    "  \"brand\": \"Ford\",\n",
    "  \"model\": \"Mustang\",\n",
    "  \"year\": 1964\n",
    "}\n",
    "mydict = thisdict.copy()\n",
    "print(\"1:\", mydict)\n",
    "\n",
    "\n",
    "\n",
    "thisdict = {\n",
    "  \"brand\": \"Ford\",\n",
    "  \"model\": \"Mustang\",\n",
    "  \"year\": 1964\n",
    "}\n",
    "mydict = dict(thisdict)\n",
    "print(\"2:\", mydict)"
   ]
  },
  {
   "cell_type": "markdown",
   "metadata": {},
   "source": [
    "Example 8 - Nested Dictionaries"
   ]
  },
  {
   "cell_type": "code",
   "execution_count": 9,
   "metadata": {},
   "outputs": [
    {
     "name": "stdout",
     "output_type": "stream",
     "text": [
      "1: {'child1': {'name': 'Emil', 'year': 2004}, 'child2': {'name': 'Tobias', 'year': 2007}, 'child3': {'name': 'Linus', 'year': 2011}}\n",
      "2: {'child1': {'name': 'Emil', 'year': 2004}, 'child2': {'name': 'Tobias', 'year': 2007}, 'child3': {'name': 'Linus', 'year': 2011}}\n",
      "3: Tobias\n",
      "4:\n",
      "child1\n",
      "name: Emil\n",
      "year: 2004\n",
      "child2\n",
      "name: Tobias\n",
      "year: 2007\n",
      "child3\n",
      "name: Linus\n",
      "year: 2011\n"
     ]
    }
   ],
   "source": [
    "myfamily = {\n",
    "  \"child1\" : {\n",
    "    \"name\" : \"Emil\",\n",
    "    \"year\" : 2004\n",
    "  },\n",
    "  \"child2\" : {\n",
    "    \"name\" : \"Tobias\",\n",
    "    \"year\" : 2007\n",
    "  },\n",
    "  \"child3\" : {\n",
    "    \"name\" : \"Linus\",\n",
    "    \"year\" : 2011\n",
    "  }\n",
    "}\n",
    "\n",
    "print(\"1:\", myfamily)   \n",
    "\n",
    "\n",
    "\n",
    "child1 = {\n",
    "    \"name\" : \"Emil\",\n",
    "    \"year\" : 2004\n",
    "    }\n",
    "child2 = {\n",
    "    \"name\" : \"Tobias\",\n",
    "    \"year\" : 2007\n",
    "    }\n",
    "child3 = {\n",
    "    \"name\" : \"Linus\",\n",
    "    \"year\" : 2011\n",
    "    }\n",
    "myfamily = {\n",
    "    \"child1\" : child1,\n",
    "    \"child2\" : child2,\n",
    "    \"child3\" : child3\n",
    "    }\n",
    "print(\"2:\", myfamily)\n",
    "\n",
    "\n",
    "\n",
    "myfamily = {\n",
    "  \"child1\" : {\n",
    "    \"name\" : \"Emil\",\n",
    "    \"year\" : 2004\n",
    "  },\n",
    "  \"child2\" : {\n",
    "    \"name\" : \"Tobias\",\n",
    "    \"year\" : 2007\n",
    "  },\n",
    "  \"child3\" : {\n",
    "    \"name\" : \"Linus\",\n",
    "    \"year\" : 2011\n",
    "  }\n",
    "}\n",
    "print(\"3:\", myfamily[\"child2\"][\"name\"])\n",
    "\n",
    "\n",
    "\n",
    "print(\"4:\")\n",
    "myfamily = {\n",
    "  \"child1\" : {\n",
    "    \"name\" : \"Emil\",\n",
    "    \"year\" : 2004\n",
    "  },\n",
    "  \"child2\" : {\n",
    "    \"name\" : \"Tobias\",\n",
    "    \"year\" : 2007\n",
    "  },\n",
    "  \"child3\" : {\n",
    "    \"name\" : \"Linus\",\n",
    "    \"year\" : 2011\n",
    "  }\n",
    "}\n",
    "for x, obj in myfamily.items():\n",
    "    print(x)\n",
    "    for y in obj:\n",
    "        print(y + ':', obj[y])\n",
    "\n",
    "\n",
    "\n"
   ]
  }
 ],
 "metadata": {
  "kernelspec": {
   "display_name": "Python 3",
   "language": "python",
   "name": "python3"
  },
  "language_info": {
   "codemirror_mode": {
    "name": "ipython",
    "version": 3
   },
   "file_extension": ".py",
   "mimetype": "text/x-python",
   "name": "python",
   "nbconvert_exporter": "python",
   "pygments_lexer": "ipython3",
   "version": "3.12.3"
  }
 },
 "nbformat": 4,
 "nbformat_minor": 2
}
