{
 "cells": [
  {
   "cell_type": "markdown",
   "metadata": {},
   "source": [
    "\n",
    "Example 1 - Arithmetic Operators"
   ]
  },
  {
   "cell_type": "code",
   "execution_count": null,
   "metadata": {},
   "outputs": [
    {
     "name": "stdout",
     "output_type": "stream",
     "text": [
      "a: 10\n",
      "b: 3\n",
      " \n",
      "Addition: 13\n",
      "Subtraction: 7\n",
      "Multiplication: 30\n",
      "Division: 3.3333333333333335\n",
      "Floor Division: 3\n",
      "Modulus: 1\n",
      "Exponentiation: 1000\n",
      "Complex Expression: 30.333333333333332\n"
     ]
    }
   ],
   "source": [
    "a = 10\n",
    "b = 3\n",
    "print(\"a:\", a)\n",
    "print(\"b:\", b)\n",
    "print(\" \")\n",
    "\n",
    "addition = a + b\n",
    "print(\"Addition:\", addition)\n",
    "\n",
    "subtraction = a - b\n",
    "print(\"Subtraction:\", subtraction)\n",
    "\n",
    "multiplication = a * b\n",
    "print(\"Multiplication:\", multiplication)\n",
    "division = a / b\n",
    "print(\"Division:\", division)\n",
    "\n",
    "floor_division = a // b\n",
    "print(\"Floor Division:\", floor_division)\n",
    "\n",
    "modulus = a % b\n",
    "print(\"Modulus:\", modulus)\n",
    "\n",
    "exponentiation = a ** b\n",
    "print(\"Exponentiation:\", exponentiation)\n",
    "\n",
    "complex_expression = (a + b) * (a - b) / b\n",
    "print(\"Complex Expression:\", complex_expression)"
   ]
  },
  {
   "cell_type": "markdown",
   "metadata": {},
   "source": [
    "Example 2 - Assignment Operators"
   ]
  },
  {
   "cell_type": "code",
   "execution_count": 11,
   "metadata": {},
   "outputs": [
    {
     "name": "stdout",
     "output_type": "stream",
     "text": [
      "Initial value: 10\n",
      "Addition assignment (+=): 15\n",
      "Subtraction assignment (-=): 12\n",
      "Multiplication assignment (*=): 24\n",
      "Division assignment (/=): 6.0\n",
      "Floor division assignment (//=): 3.0\n",
      "Modulus assignment (%=): 1.0\n",
      "Exponentiation assignment (**=): 1.0\n",
      " \n",
      "Initial value: 5\n",
      "Bitwise AND assignment (&=): 1\n",
      "Bitwise OR assignment (|=): 3\n",
      "Bitwise XOR assignment (^=): 2\n",
      "Left shift assignment (<<=): 8\n",
      "Right shift assignment (>>=): 4\n"
     ]
    }
   ],
   "source": [
    "a = 10\n",
    "print(\"Initial value:\", a)\n",
    "\n",
    "a += 5\n",
    "print(\"Addition assignment (+=):\", a)\n",
    "\n",
    "a -= 3\n",
    "print(\"Subtraction assignment (-=):\", a)\n",
    "\n",
    "a *= 2\n",
    "print(\"Multiplication assignment (*=):\", a)\n",
    "\n",
    "a /= 4\n",
    "print(\"Division assignment (/=):\", a)\n",
    "\n",
    "a //= 2\n",
    "print(\"Floor division assignment (//=):\", a)\n",
    "\n",
    "a %= 2\n",
    "print(\"Modulus assignment (%=):\", a)\n",
    "\n",
    "a **= 3\n",
    "print(\"Exponentiation assignment (**=):\", a)\n",
    "\n",
    "print(\" \")\n",
    "a = 5\n",
    "print(\"Initial value:\", a)\n",
    "a &= 3\n",
    "print(\"Bitwise AND assignment (&=):\", a)\n",
    "\n",
    "a |= 2\n",
    "print(\"Bitwise OR assignment (|=):\", a)\n",
    "\n",
    "a ^= 1\n",
    "print(\"Bitwise XOR assignment (^=):\", a)\n",
    "\n",
    "a <<= 2\n",
    "print(\"Left shift assignment (<<=):\", a)\n",
    "\n",
    "a >>= 1\n",
    "print(\"Right shift assignment (>>=):\", a)"
   ]
  },
  {
   "cell_type": "markdown",
   "metadata": {},
   "source": [
    "Example 3 - Comparison Operators"
   ]
  },
  {
   "cell_type": "code",
   "execution_count": 12,
   "metadata": {},
   "outputs": [
    {
     "name": "stdout",
     "output_type": "stream",
     "text": [
      "Equal (==): False\n",
      "Not Equal (!=): True\n",
      "Greater Than (>): True\n",
      "Less Than (<): False\n",
      "Greater Than or Equal (>=): True\n",
      "Less Than or Equal (<=): False\n"
     ]
    }
   ],
   "source": [
    "a = 10\n",
    "b = 5\n",
    "\n",
    "print(\"Equal (==):\", a == b)\n",
    "print(\"Not Equal (!=):\", a != b)\n",
    "print(\"Greater Than (>):\", a > b)\n",
    "print(\"Less Than (<):\", a < b)\n",
    "print(\"Greater Than or Equal (>=):\", a >= b)\n",
    "print(\"Less Than or Equal (<=):\", a <= b)"
   ]
  },
  {
   "cell_type": "markdown",
   "metadata": {},
   "source": [
    "Example 4 - Logical Operators"
   ]
  },
  {
   "cell_type": "code",
   "execution_count": 13,
   "metadata": {},
   "outputs": [
    {
     "name": "stdout",
     "output_type": "stream",
     "text": [
      "Logical AND (and): False\n",
      "Logical OR (or): True\n",
      "Logical NOT (not): False\n"
     ]
    }
   ],
   "source": [
    "x = True\n",
    "y = False\n",
    "\n",
    "print(\"Logical AND (and):\", x and y)\n",
    "print(\"Logical OR (or):\", x or y)\n",
    "print(\"Logical NOT (not):\", not x)\n"
   ]
  },
  {
   "cell_type": "markdown",
   "metadata": {},
   "source": [
    "Example 5 - Identity Operators"
   ]
  },
  {
   "cell_type": "code",
   "execution_count": 14,
   "metadata": {},
   "outputs": [
    {
     "name": "stdout",
     "output_type": "stream",
     "text": [
      "Identity (is): True\n",
      "Identity (is not): True\n"
     ]
    }
   ],
   "source": [
    "a = [1, 2, 3]\n",
    "b = a\n",
    "c = [1, 2, 3]\n",
    "\n",
    "print(\"Identity (is):\", a is b)\n",
    "print(\"Identity (is not):\", a is not c)"
   ]
  },
  {
   "cell_type": "markdown",
   "metadata": {},
   "source": [
    "Example 6 - Membership Operators"
   ]
  },
  {
   "cell_type": "code",
   "execution_count": 15,
   "metadata": {},
   "outputs": [
    {
     "name": "stdout",
     "output_type": "stream",
     "text": [
      "Membership (in): True\n",
      "Membership (not in): True\n"
     ]
    }
   ],
   "source": [
    "numbers = [1, 2, 3, 4, 5]\n",
    "print(\"Membership (in):\", 3 in numbers)\n",
    "print(\"Membership (not in):\", 6 not in numbers)"
   ]
  },
  {
   "cell_type": "markdown",
   "metadata": {},
   "source": [
    "Example 7 -  Bitwise Operators"
   ]
  },
  {
   "cell_type": "code",
   "execution_count": 16,
   "metadata": {},
   "outputs": [
    {
     "name": "stdout",
     "output_type": "stream",
     "text": [
      "Bitwise AND (&): 1\n",
      "Bitwise OR (|): 7\n",
      "Bitwise XOR (^): 6\n",
      "Bitwise NOT (~): -6\n",
      "Bitwise Left Shift (<<): 10\n",
      "Bitwise Right Shift (>>): 2\n"
     ]
    }
   ],
   "source": [
    "a = 5  # 0101 in binary\n",
    "b = 3  # 0011 in binary\n",
    "\n",
    "print(\"Bitwise AND (&):\", a & b)\n",
    "print(\"Bitwise OR (|):\", a | b)\n",
    "print(\"Bitwise XOR (^):\", a ^ b)\n",
    "print(\"Bitwise NOT (~):\", ~a)\n",
    "print(\"Bitwise Left Shift (<<):\", a << 1)\n",
    "print(\"Bitwise Right Shift (>>):\", a >> 1)\n"
   ]
  }
 ],
 "metadata": {
  "kernelspec": {
   "display_name": "Python 3",
   "language": "python",
   "name": "python3"
  },
  "language_info": {
   "codemirror_mode": {
    "name": "ipython",
    "version": 3
   },
   "file_extension": ".py",
   "mimetype": "text/x-python",
   "name": "python",
   "nbconvert_exporter": "python",
   "pygments_lexer": "ipython3",
   "version": "3.12.3"
  }
 },
 "nbformat": 4,
 "nbformat_minor": 2
}
